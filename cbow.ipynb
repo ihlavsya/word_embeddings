{
 "nbformat": 4,
 "nbformat_minor": 2,
 "metadata": {
  "language_info": {
   "name": "python",
   "codemirror_mode": {
    "name": "ipython",
    "version": 3
   },
   "version": "3.7.4-final"
  },
  "orig_nbformat": 2,
  "file_extension": ".py",
  "mimetype": "text/x-python",
  "name": "python",
  "npconvert_exporter": "python",
  "pygments_lexer": "ipython3",
  "version": 3,
  "kernelspec": {
   "name": "python37464bitbasecondaed72ba2a52294e6aaf330d37aa8ca31b",
   "display_name": "Python 3.7.4 64-bit ('base': conda)"
  }
 },
 "cells": [
  {
   "cell_type": "code",
   "execution_count": 2,
   "metadata": {},
   "outputs": [],
   "source": [
    "import torch\n",
    "import psutil\n",
    "import matplotlib.pyplot as plt\n",
    "import pickle\n",
    "from Questionnaire import Questionnaire\n",
    "from Vocabulary import Vocabulary\n",
    "from QuestionsParser import QuestionsParser\n",
    "\n",
    "import settings\n",
    "from trainer_helpers import train_cbow, find_hyperparams"
   ]
  },
  {
   "cell_type": "code",
   "execution_count": 3,
   "metadata": {},
   "outputs": [
    {
     "output_type": "stream",
     "name": "stdout",
     "text": "using device: cpu\n"
    }
   ],
   "source": [
    "if settings.USE_GPU and torch.cuda.is_available():\n",
    "    device = torch.device('cuda')\n",
    "else:\n",
    "    device = torch.device('cpu')\n",
    "\n",
    "print('using device:', device)"
   ]
  },
  {
   "cell_type": "code",
   "execution_count": 4,
   "metadata": {},
   "outputs": [],
   "source": [
    "with open(settings.test_cbow_data_generator_path, 'rb') as f:\n",
    "    data_generator = pickle.load(f)"
   ]
  },
  {
   "cell_type": "code",
   "execution_count": 5,
   "metadata": {},
   "outputs": [],
   "source": [
    "with open(settings.test_questions_parser_path, 'rb') as f:\n",
    "    questions_parser = pickle.load(f)"
   ]
  },
  {
   "cell_type": "code",
   "execution_count": 6,
   "metadata": {},
   "outputs": [],
   "source": [
    "unformated_training_data = [\n",
    "(('mother', 'does', 'female', 'woman'), 'she'), \n",
    "(('does', 'female', 'mother', 'woman'), 'she'), \n",
    "(('her', 'female', 'he', 'woman'), 'she'), \n",
    "(('does', 'she', 'mother', 'woman'), 'female'), \n",
    "(('she', 'her', 'woman', 'mother'), 'female'), \n",
    "(('she', 'male', 'woman', 'mother'), 'female'), \n",
    "(('she', 'does', 'female', 'mother'), 'woman'), \n",
    "(('female', 'she', 'mother', 'her'), 'woman'), \n",
    "(('female', 'she', 'man', 'does'), 'woman'), \n",
    "\n",
    "(('father', 'does', 'male', 'man'), 'he'), \n",
    "(('does', 'male', 'father', 'man'), 'he'), \n",
    "(('his', 'male', 'she', 'man'), 'he'), \n",
    "(('does', 'he', 'father', 'man'), 'male'), \n",
    "(('he', 'his', 'man', 'father'), 'male'), \n",
    "(('he', 'female', 'man', 'father'), 'male'), \n",
    "(('he', 'does', 'male', 'father'), 'man'), \n",
    "(('male', 'he', 'father', 'his'), 'man'), \n",
    "(('male', 'he', 'woman', 'does'), 'man'), \n",
    "]"
   ]
  },
  {
   "cell_type": "code",
   "execution_count": 7,
   "metadata": {},
   "outputs": [],
   "source": [
    "corpus = [['mother', 'she', 'woman', 'female', \n",
    "'father', 'he', 'man', 'male', 'his', 'does', 'her']]\n",
    "vocabulary = Vocabulary(corpus)"
   ]
  },
  {
   "cell_type": "code",
   "execution_count": 8,
   "metadata": {},
   "outputs": [],
   "source": [
    "training_data = []\n",
    "for X, y in unformated_training_data:\n",
    "    X_idx = [vocabulary.get_idx(x) for x in X]\n",
    "    y_idx = vocabulary.get_idx(y)\n",
    "    sample = (X_idx, y_idx)\n",
    "    training_data.append(sample)"
   ]
  },
  {
   "cell_type": "code",
   "execution_count": 9,
   "metadata": {},
   "outputs": [
    {
     "output_type": "stream",
     "name": "stdout",
     "text": "[([0, 9, 3, 2], 1), ([9, 3, 0, 2], 1), ([10, 3, 5, 2], 1)]\n"
    }
   ],
   "source": [
    "print(training_data[:3])"
   ]
  },
  {
   "cell_type": "code",
   "execution_count": 10,
   "metadata": {},
   "outputs": [],
   "source": [
    "questions_parser = QuestionsParser(vocabulary, settings.test_questions_filename, settings.test_meta_lines_indices)"
   ]
  },
  {
   "cell_type": "code",
   "execution_count": 11,
   "metadata": {},
   "outputs": [
    {
     "output_type": "stream",
     "name": "stdout",
     "text": "questionnaire has setup\nsetup completed\n{'total': 8589934592, 'available': 2871586816, 'percent': 66.6, 'used': 4732493824, 'free': 58937344, 'active': 2814943232, 'inactive': 2591404032, 'wired': 1917550592}\n0.0\nepoch: 0\nloss: 0.599075436592102\nepoch: 1\nloss: 0.2627752721309662\nepoch: 2\nloss: 0.12606829032301903\nepoch: 3\nloss: 0.06648122891783714\nepoch: 4\nloss: 0.03391628433018923\n0.0\nepoch: 5\nloss: 0.01244700257666409\nepoch: 6\nloss: 0.009988484205678105\nepoch: 7\nloss: 0.0023761625634506345\nepoch: 8\nloss: 0.0027840229449793696\nepoch: 9\nloss: 0.0014698424492962658\n0.0\nepoch: 10\nloss: 0.0007144494011299685\nepoch: 11\nloss: 0.0007970811275299639\nepoch: 12\nloss: 0.0005388766003306955\nepoch: 13\nloss: 0.0003782146086450666\nepoch: 14\nloss: 0.0004772784886881709\n0.0\nepoch: 15\nloss: 0.0002490434271749109\nepoch: 16\nloss: 0.00028081723212380894\nepoch: 17\nloss: 0.00035814059083350003\nepoch: 18\nloss: 0.00023894939295132644\nepoch: 19\nloss: 0.00018427377290208824\n0.0\nepoch: 20\nloss: 0.0002698751886782702\nepoch: 21\nloss: 0.00025398437719559297\nepoch: 22\nloss: 0.00020311980551923625\nepoch: 23\nloss: 0.00023236978449858725\nepoch: 24\nloss: 0.00021506743360077962\n"
    }
   ],
   "source": [
    "lr = 10**(-1.5)\n",
    "gamma = 10**(-0.05)\n",
    "step_size = 3\n",
    "model_path = 'models_weights/cbow'\n",
    "train_losses, val_accuracies, model = train_cbow(training_data, questions_parser, settings.embedding_dim, device, lr,\n",
    "gamma, step_size, model_path)"
   ]
  },
  {
   "cell_type": "code",
   "execution_count": 12,
   "metadata": {},
   "outputs": [
    {
     "output_type": "error",
     "ename": "NameError",
     "evalue": "name 'questionnaire' is not defined",
     "traceback": [
      "\u001b[0;31m---------------------------------------------------------------------------\u001b[0m",
      "\u001b[0;31mNameError\u001b[0m                                 Traceback (most recent call last)",
      "\u001b[0;32m<ipython-input-12-cd559ed882d8>\u001b[0m in \u001b[0;36m<module>\u001b[0;34m\u001b[0m\n\u001b[0;32m----> 1\u001b[0;31m \u001b[0ma\u001b[0m \u001b[0;34m=\u001b[0m \u001b[0mquestionnaire\u001b[0m\u001b[0;34m.\u001b[0m\u001b[0mcheck_val_accuracy\u001b[0m\u001b[0;34m(\u001b[0m\u001b[0;34m)\u001b[0m\u001b[0;34m\u001b[0m\u001b[0;34m\u001b[0m\u001b[0m\n\u001b[0m\u001b[1;32m      2\u001b[0m \u001b[0mprint\u001b[0m\u001b[0;34m(\u001b[0m\u001b[0ma\u001b[0m\u001b[0;34m)\u001b[0m\u001b[0;34m\u001b[0m\u001b[0;34m\u001b[0m\u001b[0m\n",
      "\u001b[0;31mNameError\u001b[0m: name 'questionnaire' is not defined"
     ]
    }
   ],
   "source": [
    "a = questionnaire.check_val_accuracy()\n",
    "print(a)"
   ]
  },
  {
   "cell_type": "code",
   "execution_count": 15,
   "metadata": {},
   "outputs": [
    {
     "output_type": "stream",
     "name": "stdout",
     "text": "tensor([10,  3,  5,  2])\ntensor([[-2.7533e+01, -2.8729e-05, -1.4590e+01, -1.0794e+01, -2.7739e+01,\n         -2.0181e+01, -1.9511e+01, -1.1764e+01, -2.6923e+01, -2.8557e+01,\n         -2.8527e+01]], grad_fn=<LogSoftmaxBackward>)\n1\nshe\n"
    }
   ],
   "source": [
    "X = ('her', 'female', 'he', 'woman')\n",
    "idx = [vocabulary.get_idx(x) for x in X]\n",
    "idx = torch.tensor(idx)\n",
    "print(idx)\n",
    "model.batch_size = 1\n",
    "log_prob = model(idx)\n",
    "print(log_prob)\n",
    "answer_idx = log_prob.argmax().item()\n",
    "print(answer_idx)\n",
    "answer = vocabulary.get_word(answer_idx)\n",
    "print(answer)"
   ]
  },
  {
   "cell_type": "code",
   "execution_count": null,
   "metadata": {},
   "outputs": [],
   "source": []
  }
 ]
}